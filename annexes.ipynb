{
 "cells": [
  {
   "attachments": {},
   "cell_type": "markdown",
   "id": "b8f7a99e-257f-4774-ab06-364891b85884",
   "metadata": {},
   "source": [
    "# Projet Question Answering - Annexes\n",
    "\n",
    "## Installation de pyserini\n",
    "\n",
    "L’installation est assez délicate, les instruction suivantes sont\n",
    "inspirées de\n",
    "<https://github.com/castorini/pyserini/blob/master/docs/installation.md>:\n",
    "\n",
    "``` shell\n",
    "conda create -n pyserini python=3.10 -y\n",
    "conda activate pyserini\n",
    "conda install -c conda-forge openjdk=11 maven -y\n",
    "conda install -c conda-forge lightgbm nmslib -y\n",
    "conda install -c pytorch faiss-cpu mkl=2021 blas=1.0=mkl pytorch -y\n",
    "pip install pyserini\n",
    "```\n",
    "\n",
    "Une version sans conda devrait marcher aussi, à condition d’avoir Python\n",
    "3.10 et pas une version plus récente:\n",
    "\n",
    "``` shell\n",
    "python -m venv serini\n",
    "source serini/bin/activate\n",
    "sudo apt update\n",
    "sudo apt install default-jdk build-essential\n",
    "pip install faiss-cpu\n",
    "pip install torch --index-url https://download.pytorch.org/whl/cu118\n",
    "pip install pyserini\n",
    "```\n",
    "\n",
    "## Installation des modules Huggingface\n",
    "\n",
    "``` shell\n",
    "pip install datasets\n",
    "pip install transformers\n",
    "```\n",
    "\n",
    "Ces deux bibliothèques gèrent le téléchargement des datasets et des\n",
    "modèles pré-entraînés. Le téléchargement se fait une fois pour toute\n",
    "lors de la première exécution.\n",
    "\n",
    "## Installation de Langchain\n",
    "\n",
    "``` shell\n",
    "pip install langchain\n",
    "```\n",
    "\n",
    "## Chargement du dataset `nq_open`"
   ]
  },
  {
   "cell_type": "code",
   "execution_count": 1,
   "id": "29af7e89",
   "metadata": {},
   "outputs": [
    {
     "name": "stdout",
     "output_type": "stream",
     "text": [
      "Requirement already satisfied: datasets in /home/mr_giraffe/anaconda3/envs/py10/lib/python3.10/site-packages (2.16.1)\n",
      "Requirement already satisfied: pandas in /home/mr_giraffe/anaconda3/envs/py10/lib/python3.10/site-packages (from datasets) (1.5.1)\n",
      "Requirement already satisfied: numpy>=1.17 in /home/mr_giraffe/anaconda3/envs/py10/lib/python3.10/site-packages (from datasets) (1.21.5)\n",
      "Requirement already satisfied: pyarrow>=8.0.0 in /home/mr_giraffe/anaconda3/envs/py10/lib/python3.10/site-packages (from datasets) (15.0.0)\n",
      "Requirement already satisfied: multiprocess in /home/mr_giraffe/anaconda3/envs/py10/lib/python3.10/site-packages (from datasets) (0.70.15)\n",
      "Requirement already satisfied: filelock in /home/mr_giraffe/anaconda3/envs/py10/lib/python3.10/site-packages (from datasets) (3.13.1)\n",
      "Requirement already satisfied: requests>=2.19.0 in /home/mr_giraffe/anaconda3/envs/py10/lib/python3.10/site-packages (from datasets) (2.31.0)\n",
      "Requirement already satisfied: pyyaml>=5.1 in /home/mr_giraffe/anaconda3/envs/py10/lib/python3.10/site-packages (from datasets) (6.0.1)\n",
      "Requirement already satisfied: tqdm>=4.62.1 in /home/mr_giraffe/anaconda3/envs/py10/lib/python3.10/site-packages (from datasets) (4.64.1)\n",
      "Requirement already satisfied: dill<0.3.8,>=0.3.0 in /home/mr_giraffe/anaconda3/envs/py10/lib/python3.10/site-packages (from datasets) (0.3.7)\n",
      "Requirement already satisfied: pyarrow-hotfix in /home/mr_giraffe/anaconda3/envs/py10/lib/python3.10/site-packages (from datasets) (0.6)\n",
      "Requirement already satisfied: xxhash in /home/mr_giraffe/anaconda3/envs/py10/lib/python3.10/site-packages (from datasets) (3.4.1)\n",
      "Requirement already satisfied: aiohttp in /home/mr_giraffe/anaconda3/envs/py10/lib/python3.10/site-packages (from datasets) (3.9.1)\n",
      "Requirement already satisfied: packaging in /home/mr_giraffe/anaconda3/envs/py10/lib/python3.10/site-packages (from datasets) (23.2)\n",
      "Requirement already satisfied: fsspec[http]<=2023.10.0,>=2023.1.0 in /home/mr_giraffe/anaconda3/envs/py10/lib/python3.10/site-packages (from datasets) (2023.10.0)\n",
      "Requirement already satisfied: huggingface-hub>=0.19.4 in /home/mr_giraffe/anaconda3/envs/py10/lib/python3.10/site-packages (from datasets) (0.20.3)\n",
      "Requirement already satisfied: yarl<2.0,>=1.0 in /home/mr_giraffe/anaconda3/envs/py10/lib/python3.10/site-packages (from aiohttp->datasets) (1.9.4)\n",
      "Requirement already satisfied: async-timeout<5.0,>=4.0 in /home/mr_giraffe/anaconda3/envs/py10/lib/python3.10/site-packages (from aiohttp->datasets) (4.0.3)\n",
      "Requirement already satisfied: aiosignal>=1.1.2 in /home/mr_giraffe/anaconda3/envs/py10/lib/python3.10/site-packages (from aiohttp->datasets) (1.3.1)\n",
      "Requirement already satisfied: attrs>=17.3.0 in /home/mr_giraffe/anaconda3/envs/py10/lib/python3.10/site-packages (from aiohttp->datasets) (23.1.0)\n",
      "Requirement already satisfied: frozenlist>=1.1.1 in /home/mr_giraffe/anaconda3/envs/py10/lib/python3.10/site-packages (from aiohttp->datasets) (1.4.1)\n",
      "Requirement already satisfied: multidict<7.0,>=4.5 in /home/mr_giraffe/anaconda3/envs/py10/lib/python3.10/site-packages (from aiohttp->datasets) (6.0.4)\n",
      "Requirement already satisfied: typing-extensions>=3.7.4.3 in /home/mr_giraffe/anaconda3/envs/py10/lib/python3.10/site-packages (from huggingface-hub>=0.19.4->datasets) (4.9.0)\n",
      "Requirement already satisfied: idna<4,>=2.5 in /home/mr_giraffe/anaconda3/envs/py10/lib/python3.10/site-packages (from requests>=2.19.0->datasets) (3.6)\n",
      "Requirement already satisfied: charset-normalizer<4,>=2 in /home/mr_giraffe/anaconda3/envs/py10/lib/python3.10/site-packages (from requests>=2.19.0->datasets) (3.3.2)\n",
      "Requirement already satisfied: certifi>=2017.4.17 in /home/mr_giraffe/anaconda3/envs/py10/lib/python3.10/site-packages (from requests>=2.19.0->datasets) (2022.9.24)\n",
      "Requirement already satisfied: urllib3<3,>=1.21.1 in /home/mr_giraffe/anaconda3/envs/py10/lib/python3.10/site-packages (from requests>=2.19.0->datasets) (2.1.0)\n",
      "Requirement already satisfied: python-dateutil>=2.8.1 in /home/mr_giraffe/anaconda3/envs/py10/lib/python3.10/site-packages (from pandas->datasets) (2.8.2)\n",
      "Requirement already satisfied: pytz>=2020.1 in /home/mr_giraffe/anaconda3/envs/py10/lib/python3.10/site-packages (from pandas->datasets) (2022.1)\n",
      "Requirement already satisfied: six>=1.5 in /home/mr_giraffe/anaconda3/envs/py10/lib/python3.10/site-packages (from python-dateutil>=2.8.1->pandas->datasets) (1.16.0)\n"
     ]
    }
   ],
   "source": [
    "!pip install datasets"
   ]
  },
  {
   "cell_type": "code",
   "execution_count": 3,
   "id": "9c853eb3",
   "metadata": {},
   "outputs": [
    {
     "name": "stdout",
     "output_type": "stream",
     "text": [
      "Collecting transformers\n",
      "  Downloading transformers-4.37.0-py3-none-any.whl (8.4 MB)\n",
      "\u001b[2K     \u001b[90m━━━━━━━━━━━━━━━━━━━━━━━━━━━━━━━━━━━━━━━━\u001b[0m \u001b[32m8.4/8.4 MB\u001b[0m \u001b[31m2.3 MB/s\u001b[0m eta \u001b[36m0:00:00\u001b[0m00:01\u001b[0m00:01\u001b[0m\n",
      "\u001b[?25hRequirement already satisfied: huggingface-hub<1.0,>=0.19.3 in /home/mr_giraffe/anaconda3/envs/py10/lib/python3.10/site-packages (from transformers) (0.20.3)\n",
      "Requirement already satisfied: filelock in /home/mr_giraffe/anaconda3/envs/py10/lib/python3.10/site-packages (from transformers) (3.13.1)\n",
      "Requirement already satisfied: requests in /home/mr_giraffe/anaconda3/envs/py10/lib/python3.10/site-packages (from transformers) (2.31.0)\n",
      "Requirement already satisfied: tqdm>=4.27 in /home/mr_giraffe/anaconda3/envs/py10/lib/python3.10/site-packages (from transformers) (4.64.1)\n",
      "Collecting tokenizers<0.19,>=0.14\n",
      "  Downloading tokenizers-0.15.1-cp310-cp310-manylinux_2_17_x86_64.manylinux2014_x86_64.whl (3.6 MB)\n",
      "\u001b[2K     \u001b[90m━━━━━━━━━━━━━━━━━━━━━━━━━━━━━━━━━━━━━━━━\u001b[0m \u001b[32m3.6/3.6 MB\u001b[0m \u001b[31m2.1 MB/s\u001b[0m eta \u001b[36m0:00:00\u001b[0m00:01\u001b[0m00:01\u001b[0m\n",
      "\u001b[?25hCollecting safetensors>=0.3.1\n",
      "  Downloading safetensors-0.4.2-cp310-cp310-manylinux_2_17_x86_64.manylinux2014_x86_64.whl (1.3 MB)\n",
      "\u001b[2K     \u001b[90m━━━━━━━━━━━━━━━━━━━━━━━━━━━━━━━━━━━━━━━━\u001b[0m \u001b[32m1.3/1.3 MB\u001b[0m \u001b[31m2.2 MB/s\u001b[0m eta \u001b[36m0:00:00\u001b[0ma \u001b[36m0:00:01\u001b[0m\n",
      "\u001b[?25hRequirement already satisfied: pyyaml>=5.1 in /home/mr_giraffe/anaconda3/envs/py10/lib/python3.10/site-packages (from transformers) (6.0.1)\n",
      "Requirement already satisfied: numpy>=1.17 in /home/mr_giraffe/anaconda3/envs/py10/lib/python3.10/site-packages (from transformers) (1.21.5)\n",
      "Requirement already satisfied: packaging>=20.0 in /home/mr_giraffe/anaconda3/envs/py10/lib/python3.10/site-packages (from transformers) (21.3)\n",
      "Collecting regex!=2019.12.17\n",
      "  Downloading regex-2023.12.25-cp310-cp310-manylinux_2_17_x86_64.manylinux2014_x86_64.whl (773 kB)\n",
      "\u001b[2K     \u001b[90m━━━━━━━━━━━━━━━━━━━━━━━━━━━━━━━━━━━━━━━\u001b[0m \u001b[32m774.0/774.0 kB\u001b[0m \u001b[31m4.4 MB/s\u001b[0m eta \u001b[36m0:00:00\u001b[0ma \u001b[36m0:00:01\u001b[0m\n",
      "\u001b[?25hRequirement already satisfied: fsspec>=2023.5.0 in /home/mr_giraffe/anaconda3/envs/py10/lib/python3.10/site-packages (from huggingface-hub<1.0,>=0.19.3->transformers) (2023.10.0)\n",
      "Requirement already satisfied: typing-extensions>=3.7.4.3 in /home/mr_giraffe/anaconda3/envs/py10/lib/python3.10/site-packages (from huggingface-hub<1.0,>=0.19.3->transformers) (4.9.0)\n",
      "Requirement already satisfied: pyparsing!=3.0.5,>=2.0.2 in /home/mr_giraffe/anaconda3/envs/py10/lib/python3.10/site-packages (from packaging>=20.0->transformers) (3.0.9)\n",
      "Requirement already satisfied: charset-normalizer<4,>=2 in /home/mr_giraffe/anaconda3/envs/py10/lib/python3.10/site-packages (from requests->transformers) (3.3.2)\n",
      "Requirement already satisfied: certifi>=2017.4.17 in /home/mr_giraffe/anaconda3/envs/py10/lib/python3.10/site-packages (from requests->transformers) (2022.9.24)\n",
      "Requirement already satisfied: urllib3<3,>=1.21.1 in /home/mr_giraffe/anaconda3/envs/py10/lib/python3.10/site-packages (from requests->transformers) (2.1.0)\n",
      "Requirement already satisfied: idna<4,>=2.5 in /home/mr_giraffe/anaconda3/envs/py10/lib/python3.10/site-packages (from requests->transformers) (3.6)\n",
      "Installing collected packages: safetensors, regex, tokenizers, transformers\n",
      "Successfully installed regex-2023.12.25 safetensors-0.4.2 tokenizers-0.15.1 transformers-4.37.0\n"
     ]
    }
   ],
   "source": [
    "!pip install transformers"
   ]
  },
  {
   "cell_type": "code",
   "execution_count": 4,
   "id": "82738f45",
   "metadata": {},
   "outputs": [
    {
     "name": "stdout",
     "output_type": "stream",
     "text": [
      "Collecting langchain\n",
      "  Downloading langchain-0.1.3-py3-none-any.whl (803 kB)\n",
      "\u001b[2K     \u001b[90m━━━━━━━━━━━━━━━━━━━━━━━━━━━━━━━━━━━━━━━\u001b[0m \u001b[32m803.6/803.6 kB\u001b[0m \u001b[31m2.3 MB/s\u001b[0m eta \u001b[36m0:00:00\u001b[0ma \u001b[36m0:00:01\u001b[0m\n",
      "\u001b[?25hRequirement already satisfied: PyYAML>=5.3 in /home/mr_giraffe/anaconda3/envs/py10/lib/python3.10/site-packages (from langchain) (6.0.1)\n",
      "Requirement already satisfied: requests<3,>=2 in /home/mr_giraffe/anaconda3/envs/py10/lib/python3.10/site-packages (from langchain) (2.31.0)\n",
      "Collecting tenacity<9.0.0,>=8.1.0\n",
      "  Downloading tenacity-8.2.3-py3-none-any.whl (24 kB)\n",
      "Collecting pydantic<3,>=1\n",
      "  Downloading pydantic-2.5.3-py3-none-any.whl (381 kB)\n",
      "\u001b[2K     \u001b[90m━━━━━━━━━━━━━━━━━━━━━━━━━━━━━━━━━━━━━━━\u001b[0m \u001b[32m381.9/381.9 kB\u001b[0m \u001b[31m3.9 MB/s\u001b[0m eta \u001b[36m0:00:00\u001b[0ma \u001b[36m0:00:01\u001b[0m\n",
      "\u001b[?25hRequirement already satisfied: aiohttp<4.0.0,>=3.8.3 in /home/mr_giraffe/anaconda3/envs/py10/lib/python3.10/site-packages (from langchain) (3.9.1)\n",
      "Requirement already satisfied: async-timeout<5.0.0,>=4.0.0 in /home/mr_giraffe/anaconda3/envs/py10/lib/python3.10/site-packages (from langchain) (4.0.3)\n",
      "Collecting langsmith<0.1,>=0.0.83\n",
      "  Downloading langsmith-0.0.83-py3-none-any.whl (49 kB)\n",
      "\u001b[2K     \u001b[90m━━━━━━━━━━━━━━━━━━━━━━━━━━━━━━━━━━━━━━━━\u001b[0m \u001b[32m49.3/49.3 kB\u001b[0m \u001b[31m2.3 MB/s\u001b[0m eta \u001b[36m0:00:00\u001b[0m\n",
      "\u001b[?25hRequirement already satisfied: numpy<2,>=1 in /home/mr_giraffe/anaconda3/envs/py10/lib/python3.10/site-packages (from langchain) (1.21.5)\n",
      "Collecting langchain-community<0.1,>=0.0.14\n",
      "  Downloading langchain_community-0.0.15-py3-none-any.whl (1.6 MB)\n",
      "\u001b[2K     \u001b[90m━━━━━━━━━━━━━━━━━━━━━━━━━━━━━━━━━━━━━━━━\u001b[0m \u001b[32m1.6/1.6 MB\u001b[0m \u001b[31m4.5 MB/s\u001b[0m eta \u001b[36m0:00:00\u001b[0ma \u001b[36m0:00:01\u001b[0m\n",
      "\u001b[?25hCollecting dataclasses-json<0.7,>=0.5.7\n",
      "  Downloading dataclasses_json-0.6.3-py3-none-any.whl (28 kB)\n",
      "Collecting SQLAlchemy<3,>=1.4\n",
      "  Downloading SQLAlchemy-2.0.25-cp310-cp310-manylinux_2_17_x86_64.manylinux2014_x86_64.whl (3.1 MB)\n",
      "\u001b[2K     \u001b[90m━━━━━━━━━━━━━━━━━━━━━━━━━━━━━━━━━━━━━━━━\u001b[0m \u001b[32m3.1/3.1 MB\u001b[0m \u001b[31m4.4 MB/s\u001b[0m eta \u001b[36m0:00:00\u001b[0ma \u001b[36m0:00:01\u001b[0m\n",
      "\u001b[?25hCollecting langchain-core<0.2,>=0.1.14\n",
      "  Downloading langchain_core-0.1.15-py3-none-any.whl (229 kB)\n",
      "\u001b[2K     \u001b[90m━━━━━━━━━━━━━━━━━━━━━━━━━━━━━━━━━━━━━━━\u001b[0m \u001b[32m229.6/229.6 kB\u001b[0m \u001b[31m2.6 MB/s\u001b[0m eta \u001b[36m0:00:00\u001b[0ma \u001b[36m0:00:01\u001b[0m\n",
      "\u001b[?25hCollecting jsonpatch<2.0,>=1.33\n",
      "  Downloading jsonpatch-1.33-py2.py3-none-any.whl (12 kB)\n",
      "Requirement already satisfied: frozenlist>=1.1.1 in /home/mr_giraffe/anaconda3/envs/py10/lib/python3.10/site-packages (from aiohttp<4.0.0,>=3.8.3->langchain) (1.4.1)\n",
      "Requirement already satisfied: attrs>=17.3.0 in /home/mr_giraffe/anaconda3/envs/py10/lib/python3.10/site-packages (from aiohttp<4.0.0,>=3.8.3->langchain) (23.1.0)\n",
      "Requirement already satisfied: aiosignal>=1.1.2 in /home/mr_giraffe/anaconda3/envs/py10/lib/python3.10/site-packages (from aiohttp<4.0.0,>=3.8.3->langchain) (1.3.1)\n",
      "Requirement already satisfied: yarl<2.0,>=1.0 in /home/mr_giraffe/anaconda3/envs/py10/lib/python3.10/site-packages (from aiohttp<4.0.0,>=3.8.3->langchain) (1.9.4)\n",
      "Requirement already satisfied: multidict<7.0,>=4.5 in /home/mr_giraffe/anaconda3/envs/py10/lib/python3.10/site-packages (from aiohttp<4.0.0,>=3.8.3->langchain) (6.0.4)\n",
      "Collecting marshmallow<4.0.0,>=3.18.0\n",
      "  Downloading marshmallow-3.20.2-py3-none-any.whl (49 kB)\n",
      "\u001b[2K     \u001b[90m━━━━━━━━━━━━━━━━━━━━━━━━━━━━━━━━━━━━━━━━\u001b[0m \u001b[32m49.4/49.4 kB\u001b[0m \u001b[31m6.7 MB/s\u001b[0m eta \u001b[36m0:00:00\u001b[0m\n",
      "\u001b[?25hCollecting typing-inspect<1,>=0.4.0\n",
      "  Downloading typing_inspect-0.9.0-py3-none-any.whl (8.8 kB)\n",
      "Collecting jsonpointer>=1.9\n",
      "  Downloading jsonpointer-2.4-py2.py3-none-any.whl (7.8 kB)\n",
      "Collecting packaging<24.0,>=23.2\n",
      "  Downloading packaging-23.2-py3-none-any.whl (53 kB)\n",
      "\u001b[2K     \u001b[90m━━━━━━━━━━━━━━━━━━━━━━━━━━━━━━━━━━━━━━━━\u001b[0m \u001b[32m53.0/53.0 kB\u001b[0m \u001b[31m1.4 MB/s\u001b[0m eta \u001b[36m0:00:00\u001b[0m\n",
      "\u001b[?25hCollecting anyio<5,>=3\n",
      "  Downloading anyio-4.2.0-py3-none-any.whl (85 kB)\n",
      "\u001b[2K     \u001b[90m━━━━━━━━━━━━━━━━━━━━━━━━━━━━━━━━━━━━━━━━\u001b[0m \u001b[32m85.5/85.5 kB\u001b[0m \u001b[31m2.5 MB/s\u001b[0m eta \u001b[36m0:00:00\u001b[0m\n",
      "\u001b[?25hCollecting annotated-types>=0.4.0\n",
      "  Downloading annotated_types-0.6.0-py3-none-any.whl (12 kB)\n",
      "Requirement already satisfied: typing-extensions>=4.6.1 in /home/mr_giraffe/anaconda3/envs/py10/lib/python3.10/site-packages (from pydantic<3,>=1->langchain) (4.9.0)\n",
      "Collecting pydantic-core==2.14.6\n",
      "  Downloading pydantic_core-2.14.6-cp310-cp310-manylinux_2_17_x86_64.manylinux2014_x86_64.whl (2.1 MB)\n",
      "\u001b[2K     \u001b[90m━━━━━━━━━━━━━━━━━━━━━━━━━━━━━━━━━━━━━━━━\u001b[0m \u001b[32m2.1/2.1 MB\u001b[0m \u001b[31m3.2 MB/s\u001b[0m eta \u001b[36m0:00:00\u001b[0m00:01\u001b[0m00:01\u001b[0m\n",
      "\u001b[?25hRequirement already satisfied: urllib3<3,>=1.21.1 in /home/mr_giraffe/anaconda3/envs/py10/lib/python3.10/site-packages (from requests<3,>=2->langchain) (2.1.0)\n",
      "Requirement already satisfied: certifi>=2017.4.17 in /home/mr_giraffe/anaconda3/envs/py10/lib/python3.10/site-packages (from requests<3,>=2->langchain) (2022.9.24)\n",
      "Requirement already satisfied: charset-normalizer<4,>=2 in /home/mr_giraffe/anaconda3/envs/py10/lib/python3.10/site-packages (from requests<3,>=2->langchain) (3.3.2)\n",
      "Requirement already satisfied: idna<4,>=2.5 in /home/mr_giraffe/anaconda3/envs/py10/lib/python3.10/site-packages (from requests<3,>=2->langchain) (3.6)\n",
      "Collecting greenlet!=0.4.17\n",
      "  Downloading greenlet-3.0.3-cp310-cp310-manylinux_2_24_x86_64.manylinux_2_28_x86_64.whl (616 kB)\n",
      "\u001b[2K     \u001b[90m━━━━━━━━━━━━━━━━━━━━━━━━━━━━━━━━━━━━━━━\u001b[0m \u001b[32m616.0/616.0 kB\u001b[0m \u001b[31m1.7 MB/s\u001b[0m eta \u001b[36m0:00:00\u001b[0m00:01\u001b[0m00:01\u001b[0m\n",
      "\u001b[?25hCollecting sniffio>=1.1\n",
      "  Downloading sniffio-1.3.0-py3-none-any.whl (10 kB)\n",
      "Collecting exceptiongroup>=1.0.2\n",
      "  Downloading exceptiongroup-1.2.0-py3-none-any.whl (16 kB)\n",
      "Collecting mypy-extensions>=0.3.0\n",
      "  Downloading mypy_extensions-1.0.0-py3-none-any.whl (4.7 kB)\n",
      "Installing collected packages: tenacity, sniffio, pydantic-core, packaging, mypy-extensions, jsonpointer, greenlet, exceptiongroup, annotated-types, typing-inspect, SQLAlchemy, pydantic, marshmallow, jsonpatch, anyio, langsmith, dataclasses-json, langchain-core, langchain-community, langchain\n",
      "  Attempting uninstall: tenacity\n",
      "    Found existing installation: tenacity 8.0.1\n",
      "    Uninstalling tenacity-8.0.1:\n",
      "      Successfully uninstalled tenacity-8.0.1\n",
      "  Attempting uninstall: packaging\n",
      "    Found existing installation: packaging 21.3\n",
      "    Uninstalling packaging-21.3:\n",
      "      Successfully uninstalled packaging-21.3\n",
      "Successfully installed SQLAlchemy-2.0.25 annotated-types-0.6.0 anyio-4.2.0 dataclasses-json-0.6.3 exceptiongroup-1.2.0 greenlet-3.0.3 jsonpatch-1.33 jsonpointer-2.4 langchain-0.1.3 langchain-community-0.0.15 langchain-core-0.1.15 langsmith-0.0.83 marshmallow-3.20.2 mypy-extensions-1.0.0 packaging-23.2 pydantic-2.5.3 pydantic-core-2.14.6 sniffio-1.3.0 tenacity-8.2.3 typing-inspect-0.9.0\n"
     ]
    }
   ],
   "source": [
    "!pip install langchain"
   ]
  },
  {
   "cell_type": "code",
   "execution_count": 5,
   "id": "04208fc3",
   "metadata": {},
   "outputs": [
    {
     "name": "stdout",
     "output_type": "stream",
     "text": [
      "[sudo] password for mr_giraffe: "
     ]
    }
   ],
   "source": [
    "!python -m venv serini\n",
    "!source serini/bin/activate\n",
    "!sudo apt update\n",
    "!sudo apt install default-jdk build-essential\n",
    "!pip install faiss-cpu\n",
    "!pip install torch --index-url https://download.pytorch.org/whl/cu118\n",
    "!pip install pyserini"
   ]
  },
  {
   "cell_type": "code",
   "execution_count": 1,
   "id": "fb65fdec-8b39-43da-936f-029048951d61",
   "metadata": {},
   "outputs": [
    {
     "ename": "ModuleNotFoundError",
     "evalue": "No module named 'datasets'",
     "output_type": "error",
     "traceback": [
      "\u001b[0;31m---------------------------------------------------------------------------\u001b[0m",
      "\u001b[0;31mModuleNotFoundError\u001b[0m                       Traceback (most recent call last)",
      "\u001b[1;32m/home/mr_giraffe/Documents/Proba Finance/Machine learning/Projet - Question Answering/annexes.ipynb Cell 2\u001b[0m in \u001b[0;36m1\n\u001b[0;32m----> <a href='vscode-notebook-cell:/home/mr_giraffe/Documents/Proba%20Finance/Machine%20learning/Projet%20-%20Question%20Answering/annexes.ipynb#W1sZmlsZQ%3D%3D?line=0'>1</a>\u001b[0m \u001b[39mfrom\u001b[39;00m \u001b[39mdatasets\u001b[39;00m \u001b[39mimport\u001b[39;00m load_dataset\n\u001b[1;32m      <a href='vscode-notebook-cell:/home/mr_giraffe/Documents/Proba%20Finance/Machine%20learning/Projet%20-%20Question%20Answering/annexes.ipynb#W1sZmlsZQ%3D%3D?line=2'>3</a>\u001b[0m dataset \u001b[39m=\u001b[39m load_dataset(\u001b[39m\"\u001b[39m\u001b[39mnq_open\u001b[39m\u001b[39m\"\u001b[39m, split\u001b[39m=\u001b[39m\u001b[39m\"\u001b[39m\u001b[39mvalidation\u001b[39m\u001b[39m\"\u001b[39m)\n\u001b[1;32m      <a href='vscode-notebook-cell:/home/mr_giraffe/Documents/Proba%20Finance/Machine%20learning/Projet%20-%20Question%20Answering/annexes.ipynb#W1sZmlsZQ%3D%3D?line=3'>4</a>\u001b[0m \u001b[39mfor\u001b[39;00m batch \u001b[39min\u001b[39;00m dataset\u001b[39m.\u001b[39miter(batch_size\u001b[39m=\u001b[39m\u001b[39m1\u001b[39m):\n",
      "\u001b[0;31mModuleNotFoundError\u001b[0m: No module named 'datasets'"
     ]
    }
   ],
   "source": [
    "from datasets import load_dataset\n",
    "\n",
    "dataset = load_dataset(\"nq_open\", split=\"validation\")\n",
    "for batch in dataset.iter(batch_size=1):\n",
    "    print(batch[\"question\"], batch[\"answer\"])"
   ]
  },
  {
   "attachments": {},
   "cell_type": "markdown",
   "id": "119cb3c0-34f1-4212-aa8b-c33f3cbd5aef",
   "metadata": {},
   "source": [
    "## Modèle probabiliste avec Pyserini"
   ]
  },
  {
   "cell_type": "code",
   "execution_count": null,
   "id": "8986fdf4-76f4-4352-99fc-448f8712aed7",
   "metadata": {},
   "outputs": [
    {
     "ename": "",
     "evalue": "",
     "output_type": "error",
     "traceback": [
      "\u001b[1;31mThe kernel failed to start as the Python Environment 'serini' is no longer available. Consider selecting another kernel or refreshing the list of Python Environments."
     ]
    }
   ],
   "source": [
    "import json\n",
    "from pyserini.search.lucene import LuceneSearcher\n",
    "\n",
    "searcher = LuceneSearcher.from_prebuilt_index('wikipedia-dpr-100w')\n",
    "hits = searcher.search('How old is Harrisson Ford ?')\n",
    "\n",
    "for i in range(0, 10):\n",
    "    docid = hits[i].docid\n",
    "    score = hits[i].score\n",
    "    content = json.loads(searcher.doc(docid).raw())[\"contents\"]\n",
    "\n",
    "    print(score, docid, content)"
   ]
  },
  {
   "attachments": {},
   "cell_type": "markdown",
   "id": "a4ef3f7e-8dfc-4a9b-af90-0c368dc21878",
   "metadata": {},
   "source": [
    "Cet index a été calculé à partir d’une extraction complète de wikipedia.\n",
    "Chaque article a été découpé en passages d’une longueur de 100 mots. Un\n",
    "document de l’index est l’un de ces passages.\n",
    "\n",
    "## Modèle dense avec Pyserini\n",
    "\n",
    "Ne pas l’utiliser tel quel, c’est trop coûteux pour une machine\n",
    "personnelle, ce fragment est juste donné à titre de référence. On voit\n",
    "ici l’encodeur de question\n",
    "`facebook/dpr-question_encoder-single-nq-base` et l’index précalculé\n",
    "avec l’encodeur de documents"
   ]
  },
  {
   "cell_type": "code",
   "execution_count": null,
   "id": "abf4f2d2-78b9-479a-963e-6efd8bd14a0f",
   "metadata": {},
   "outputs": [],
   "source": [
    "# from pyserini.search.faiss import FaissSearcher, DprQueryEncoder\n",
    "# \n",
    "# encoder = DprQueryEncoder('facebook/dpr-question_encoder-single-nq-base')\n",
    "# searcher = FaissSearcher.from_prebuilt_index(\n",
    "#     'wikipedia-dpr-100w.dpr-single-nq',\n",
    "#     encoder\n",
    "# )\n",
    "# hits = searcher.search('what is a lobster roll')"
   ]
  },
  {
   "attachments": {},
   "cell_type": "markdown",
   "id": "d60da462-0246-4851-b879-7850d6aaec4d",
   "metadata": {},
   "source": [
    "Il s’agit des mêmes documents que précédemment.\n",
    "\n",
    "## Modèle dense avec Fakesearch\n",
    "\n",
    "Il faut télécharger le fichier `fakesearch.py` et le fichier\n",
    "`faiss-validation.pickle`. Les résultats de recherche ont été\n",
    "précalculés et stockés dans un fichier."
   ]
  },
  {
   "cell_type": "code",
   "execution_count": null,
   "id": "aa0a0733-a30c-4796-bc75-51deb06d4e97",
   "metadata": {},
   "outputs": [],
   "source": [
    "import fakesearch\n",
    "\n",
    "dense_index = fakesearch.load(\"faiss-lucene.pickle)\n",
    "dense_index[\"what is a lobster roll\"]"
   ]
  },
  {
   "attachments": {},
   "cell_type": "markdown",
   "id": "8cd7d534-02d4-4fd7-a22d-045447e7ffb2",
   "metadata": {},
   "source": [
    "Attention, on ne peut utiliser que les questions du sous-ensemble de\n",
    "validation. On obtiendra une erreur dans le cas contraire:"
   ]
  },
  {
   "cell_type": "code",
   "execution_count": null,
   "id": "f9405b1f-efc7-4d2b-8429-f88847c613b1",
   "metadata": {},
   "outputs": [],
   "source": [
    "dense_index[\"How old is Harrison Ford\"]"
   ]
  },
  {
   "attachments": {},
   "cell_type": "markdown",
   "id": "ecd27206-73d2-4499-83d0-b77ef3c41107",
   "metadata": {},
   "source": [
    "## Modèle probabiliste avec Fakesearch\n",
    "\n",
    "La recherche pré-calculée n’est à utiliser que si vous n’arrivez\n",
    "vraiment pas à installer `pyserini`.\n",
    "\n",
    "Il faut télécharger le fichier `fakesearch.py` et le fichier\n",
    "`lucence-validation.pickle`. Les résultats de recherche ont été\n",
    "précalculés et stockés dans un fichier."
   ]
  },
  {
   "cell_type": "code",
   "execution_count": null,
   "id": "4d5cc5c5-7a00-499d-ace4-babb3036e701",
   "metadata": {},
   "outputs": [],
   "source": [
    "import fakesearch\n",
    "\n",
    "sparse_index = fakesearch.load(\"lucene-validation.pickle)\n",
    "sparse_index[\"what is a lobster roll\"]"
   ]
  },
  {
   "attachments": {},
   "cell_type": "markdown",
   "id": "e0f56580-d193-4091-b218-9d185d3c7817",
   "metadata": {},
   "source": [
    "Attention, on ne peut utiliser que les questions du sous-ensemble de\n",
    "validation. On obtiendra une erreur dans le cas contraire:"
   ]
  },
  {
   "cell_type": "code",
   "execution_count": null,
   "id": "03b9f078-e95b-4c45-aadf-cd2def1bcfcf",
   "metadata": {},
   "outputs": [],
   "source": [
    "sparse_index[\"How old is Harrison Ford\"]"
   ]
  },
  {
   "attachments": {},
   "cell_type": "markdown",
   "id": "48b716ee-9f99-4139-a249-bb3ab1b98284",
   "metadata": {},
   "source": [
    "## ChatGPT avec le module OpenAI\n",
    "\n",
    "Cet interface est relativement simple, mais limitée à ChatGPT et ne\n",
    "fournit aucun outil pour faciliter l’utilisation des réponses."
   ]
  },
  {
   "cell_type": "code",
   "execution_count": null,
   "id": "12e8a281-e10f-4e71-8d39-4ca8f89b8643",
   "metadata": {},
   "outputs": [],
   "source": [
    "from openai import OpenAI\n",
    "\n",
    "client = OpenAI(api_key=LA_CLÉ_ICI)\n",
    "\n",
    "chat_completion = client.chat.completions.create(\n",
    "    messages=[\n",
    "        {\n",
    "            \"role\": \"user\",\n",
    "            \"content\": \"Who is Joe Biden ?\",\n",
    "        }\n",
    "    ],\n",
    "    model=\"gpt-3.5-turbo\",\n",
    ")"
   ]
  },
  {
   "attachments": {},
   "cell_type": "markdown",
   "id": "c7fe937b-8ec2-4c6c-86f2-ab49dcc75418",
   "metadata": {},
   "source": [
    "## ChatGPT avec Langchain\n",
    "\n",
    "Langchain est un peu plus complexe à utiliser, mais permet d’utiliser\n",
    "beaucoup plus d’outils pratiques et de s’abstraire du modèle de langue\n",
    "utilisé."
   ]
  },
  {
   "cell_type": "code",
   "execution_count": null,
   "id": "805a61cf-6d34-444f-bd58-253958a4ee65",
   "metadata": {},
   "outputs": [],
   "source": [
    "from langchain_openai import ChatOpenAI\n",
    "\n",
    "llm = ChatOpenAI(openai_api_key=LA_CLÉ_ICI)\n",
    "llm.invoke(\"what is a lobster roll\")"
   ]
  },
  {
   "attachments": {},
   "cell_type": "markdown",
   "id": "5a119169-9042-43ea-b7f1-70ab31b8fa68",
   "metadata": {},
   "source": [
    "## Duckduckgo avec Langchain\n",
    "\n",
    "Voir <https://python.langchain.com/docs/integrations/tools/ddg>"
   ]
  },
  {
   "cell_type": "code",
   "execution_count": null,
   "id": "ea45f618-c3ab-4c1a-af9a-fce67bd594ab",
   "metadata": {},
   "outputs": [],
   "source": [
    "%pip install --upgrade --quiet  duckduckgo-search\n",
    "\n",
    "from langchain.tools import DuckDuckGoSearchRun\n",
    "\n",
    "search = DuckDuckGoSearchRun()\n",
    "search.run(\"what is a lobster roll\")"
   ]
  },
  {
   "attachments": {},
   "cell_type": "markdown",
   "id": "68e84f78-6f82-421c-b704-26bf1aba6b16",
   "metadata": {},
   "source": [
    "## Llama2\n",
    "\n",
    "Pour Llama2, on a besoin de:\n",
    "\n",
    "-   Ollama <https://ollama.ai/> pour télécharger et faire tourner le\n",
    "    modèle\n",
    "-   Langchain pour l’utiliser\n",
    "\n",
    "Voir <https://python.langchain.com/docs/integrations/chat/ollama>\n",
    "\n",
    "## GPT2\n",
    "\n",
    "Voir <https://huggingface.co/gpt2>"
   ]
  },
  {
   "cell_type": "code",
   "execution_count": null,
   "id": "b9b5fa1e-01fb-4eca-a3aa-517a32ee106d",
   "metadata": {},
   "outputs": [],
   "source": [
    "from transformers import pipeline\n",
    "\n",
    "pipe = pipeline(\"text-generation\", model=\"gpt2\")\n",
    "pipe(\"what is a lobster roll\")"
   ]
  }
 ],
 "metadata": {
  "kernelspec": {
   "display_name": "Python 3",
   "language": "python",
   "name": "python3"
  },
  "language_info": {
   "codemirror_mode": {
    "name": "ipython",
    "version": 3
   },
   "file_extension": ".py",
   "mimetype": "text/x-python",
   "name": "python",
   "nbconvert_exporter": "python",
   "pygments_lexer": "ipython3",
   "version": "3.10.12"
  }
 },
 "nbformat": 4,
 "nbformat_minor": 5
}
