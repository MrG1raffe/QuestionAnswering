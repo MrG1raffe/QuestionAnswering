{
 "cells": [
  {
   "cell_type": "markdown",
   "id": "da6564f7",
   "metadata": {},
   "source": [
    "Pour certaines questions comme \"names of the metropolitan municipalities in south africa\", la réponse n'est pas dans le texte de la page wikipedia (ici https://en.wikipedia.org/wiki/Metropolitan_municipality_(South_Africa)) mais la réponse est dans un tableau donc il faut extraire les données du tableau. Avec ce code, on peut extraire toutes les données de tous les tableaux mais je sais pas si chatgpt comprendra les données extraites vu qu'il n'y a pas de phrase."
   ]
  },
  {
   "cell_type": "code",
   "execution_count": 3,
   "id": "c150fcfc",
   "metadata": {},
   "outputs": [],
   "source": [
    "import requests\n",
    "from bs4 import BeautifulSoup\n",
    "import wikipedia"
   ]
  },
  {
   "cell_type": "code",
   "execution_count": 10,
   "id": "a6a9a2f5",
   "metadata": {},
   "outputs": [
    {
     "name": "stdout",
     "output_type": "stream",
     "text": [
      "Metropolitan municipality (South Africa)\n"
     ]
    }
   ],
   "source": [
    "question = \"names of the metropolitan municipalities in south africa\"\n",
    " \n",
    "# getting suggestions\n",
    "title = wikipedia.search(question, results = 1)[0] # parameter to tune\n",
    " \n",
    "# printing the result\n",
    "print(title)\n",
    "page = wikipedia.page(title)"
   ]
  },
  {
   "cell_type": "code",
   "execution_count": 13,
   "id": "ae7d0e4a",
   "metadata": {},
   "outputs": [
    {
     "data": {
      "text/plain": [
       "'https://en.wikipedia.org/wiki/Metropolitan_municipality_(South_Africa)'"
      ]
     },
     "execution_count": 13,
     "metadata": {},
     "output_type": "execute_result"
    }
   ],
   "source": [
    "def wikipedia_url(title):\n",
    "    url = \"https://en.wikipedia.org/wiki/\" + title.replace(\" \", \"_\")\n",
    "    return url\n",
    "\n",
    "\n",
    "wikipedia_url(\"Metropolitan municipality (South Africa)\")"
   ]
  },
  {
   "cell_type": "code",
   "execution_count": 16,
   "id": "398eee9f",
   "metadata": {},
   "outputs": [],
   "source": [
    "def get_all_wikipedia_tables(url):\n",
    "    response = requests.get(url)\n",
    "    soup = BeautifulSoup(response.text, 'html.parser')\n",
    "    \n",
    "    # Trouver tous les tableaux dans la page\n",
    "    tables = soup.find_all('table')\n",
    "\n",
    "    # Initialiser une liste pour stocker les données de tous les tableaux\n",
    "    all_data = []\n",
    "\n",
    "    # Parcourir tous les tableaux\n",
    "    for table in tables:\n",
    "        # Initialiser une liste pour stocker les données du tableau actuel\n",
    "        table_data = []\n",
    "\n",
    "        # Parcourir les lignes du tableau\n",
    "        for row in table.find_all('tr'):\n",
    "            # Initialiser une liste pour stocker les cellules de la ligne\n",
    "            row_data = []\n",
    "\n",
    "            # Parcourir les cellules de la ligne\n",
    "            for cell in row.find_all(['th', 'td']):\n",
    "                # Ajouter le texte de la cellule à la liste row_data\n",
    "                row_data.append(cell.get_text(strip=True))\n",
    "\n",
    "            # Ajouter la liste row_data à la liste principale table_data\n",
    "            table_data.append(row_data)\n",
    "\n",
    "        # Ajouter les données du tableau actuel à la liste principale all_data\n",
    "        all_data.append(table_data)\n",
    "\n",
    "    return all_data"
   ]
  },
  {
   "cell_type": "code",
   "execution_count": 17,
   "id": "0d694e55",
   "metadata": {},
   "outputs": [
    {
     "name": "stdout",
     "output_type": "stream",
     "text": [
      "Table:\n",
      "['', 'This article includes a list of generalreferences, butit lacks sufficient correspondinginline citations.Please help toimprovethis article byintroducingmore precise citations.(August 2017)(Learn how and when to remove this template message)']\n",
      "\n",
      "\n",
      "Table:\n",
      "['Politics of South Africa']\n",
      "['']\n",
      "['']\n",
      "['ConstitutionBill of Rights']\n",
      "['ExecutivePresidentCyril RamaphosaDeputy PresidentPaul MashatileCabinetDepartmentsShadow Cabinet']\n",
      "['LegislatureNational Council of ProvincesChairpersonAmos MasondoNational AssemblySpeakerNosiviwe Mapisa-NqakulaLeader of the OppositionJohn Steenhuisen']\n",
      "[\"JudiciaryChief JusticeRay ZondoDeputy Chief JusticeMandisa MayaCourtsConstitutional CourtSupreme Court of AppealPresident:Mahube MolemelaHigh CourtMagistrate's courtsElectoral Court\"]\n",
      "['ElectionsGeneral1910191519201921192419291933193819431948195319581961196619701974197719811984198719891994199920042009201420192024Municipal20002006201120162021Referendums196019831992Political parties']\n",
      "['Administrative divisionsProvincesDistrictsMetropolitan municipalityDistrict municipalityMunicipalities(list)']\n",
      "['Foreign relationsDepartment of International Relations and CooperationMinister:Naledi PandorDiplomatic missions of/in South AfricaNationality lawPassportVisa requirementsVisa policy']\n",
      "['Related topicsHuman rightsNational debtPolitical assassinationsProtestsRepressionSocial WelfareTaxation']\n",
      "['Provincial PoliticsPolitics of the Eastern CapePolitics of the Free StatePolitics of GautengPolitics of KwaZulu-NatalPolitics of LimpopoPolitics of MpumalangaPolitics of the Northern CapePolitics of North WestPolitics of the Western Cape']\n",
      "['South Africa portalOther countries']\n",
      "['vte']\n",
      "\n",
      "\n",
      "Table:\n",
      "['Name', 'Code', 'Province', 'Seat', 'Area(km2)[10]', 'Population(2016)[11]', 'Pop. density(per km2)']\n",
      "['Buffalo City Metropolitan Municipality', 'BUF', 'Eastern Cape', 'East London', '2,750', '834,997', '303.6']\n",
      "['City of Cape Town Metropolitan Municipality', 'CPT', 'Western Cape', 'Cape Town', '2,446', '4,005,016', '1,637.6']\n",
      "['City of Johannesburg Metropolitan Municipality', 'JHB', 'Gauteng', 'Johannesburg', '1,645', '4,949,347', '3,008.8']\n",
      "['City of Tshwane Metropolitan Municipality', 'TSH', 'Gauteng', 'Pretoria', '6,298', '3,275,152', '520.0']\n",
      "['City of Ekurhuleni Metropolitan Municipality[12]', 'EKU', 'Gauteng', 'Germiston', '1,975', '3,379,104', '1,710.6']\n",
      "['eThekwini Metropolitan Municipality', 'ETH', 'KwaZulu-Natal', 'Durban', '2,556', '3,702,231', '1,448.5']\n",
      "['Mangaung Metropolitan Municipality', 'MAN', 'Free State', 'Bloemfontein', '9,886', '787,803', '79.7']\n",
      "['Nelson Mandela Bay Metropolitan Municipality', 'NMA', 'Eastern Cape', 'Port Elizabeth', '1,957', '1,263,051', '645.4']\n",
      "\n",
      "\n",
      "Table:\n",
      "['vteAdministrative divisions of South Africa']\n",
      "['Capitals:Pretoria(executive)Bloemfontein(judicial)Cape Town(legislative)']\n",
      "['Provinces', 'Eastern CapeFree StateGautengKwaZulu-NatalLimpopoMpumalangaNorth WestNorthern CapeWestern Cape']\n",
      "['Municipalities', 'List of municipalities in South AfricaBy provinceEastern CapeFree StateGautengKwaZulu-NatalLimpopoMpumalangaNorth WestNorthern CapeWestern CapeTypesMetropolitanLocalDistrictTransitional', 'List of municipalities in South Africa', 'By province', 'Eastern CapeFree StateGautengKwaZulu-NatalLimpopoMpumalangaNorth WestNorthern CapeWestern Cape', 'Types', 'MetropolitanLocalDistrictTransitional']\n",
      "['List of municipalities in South Africa']\n",
      "['By province', 'Eastern CapeFree StateGautengKwaZulu-NatalLimpopoMpumalangaNorth WestNorthern CapeWestern Cape']\n",
      "['Types', 'MetropolitanLocalDistrictTransitional']\n",
      "['Settlements', 'By provinceEastern CapeFree StateGautengKwaZulu-NatalLimpopoMpumalangaNorth WestNorthern CapeWestern Cape', 'By province', 'Eastern CapeFree StateGautengKwaZulu-NatalLimpopoMpumalangaNorth WestNorthern CapeWestern Cape']\n",
      "['By province', 'Eastern CapeFree StateGautengKwaZulu-NatalLimpopoMpumalangaNorth WestNorthern CapeWestern Cape']\n",
      "\n",
      "\n",
      "Table:\n",
      "['List of municipalities in South Africa']\n",
      "['By province', 'Eastern CapeFree StateGautengKwaZulu-NatalLimpopoMpumalangaNorth WestNorthern CapeWestern Cape']\n",
      "['Types', 'MetropolitanLocalDistrictTransitional']\n",
      "\n",
      "\n",
      "Table:\n",
      "['By province', 'Eastern CapeFree StateGautengKwaZulu-NatalLimpopoMpumalangaNorth WestNorthern CapeWestern Cape']\n",
      "\n",
      "\n",
      "Table:\n",
      "['vteMetropolitan elections in South Africa']\n",
      "['Metropolitan', 'Buffalo CityCity of Cape TownCity of EkurhuleniCity of JohannesburgCity of TshwaneeThekwiniMangaungNelson Mandela Bay']\n",
      "\n",
      "\n"
     ]
    }
   ],
   "source": [
    "url = wikipedia_url(title)\n",
    "all_tables_data = get_all_wikipedia_tables(url)\n",
    "\n",
    "for table_data in all_tables_data:\n",
    "    print(\"Table:\")\n",
    "    for row in table_data:\n",
    "        print(row)\n",
    "    print(\"\\n\")"
   ]
  },
  {
   "cell_type": "code",
   "execution_count": null,
   "id": "28098691",
   "metadata": {},
   "outputs": [],
   "source": []
  }
 ],
 "metadata": {
  "kernelspec": {
   "display_name": "Python 3 (ipykernel)",
   "language": "python",
   "name": "python3"
  },
  "language_info": {
   "codemirror_mode": {
    "name": "ipython",
    "version": 3
   },
   "file_extension": ".py",
   "mimetype": "text/x-python",
   "name": "python",
   "nbconvert_exporter": "python",
   "pygments_lexer": "ipython3",
   "version": "3.9.7"
  }
 },
 "nbformat": 4,
 "nbformat_minor": 5
}
