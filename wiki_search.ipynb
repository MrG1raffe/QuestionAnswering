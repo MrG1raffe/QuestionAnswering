{
 "cells": [
  {
   "cell_type": "code",
   "execution_count": 27,
   "id": "9e4a616e",
   "metadata": {},
   "outputs": [],
   "source": [
    "# importing the module\n",
    "import wikipedia\n",
    "import requests\n",
    "from bs4 import BeautifulSoup\n",
    " \n",
    "def cut_article(content: str):\n",
    "    \"\"\"\n",
    "    Removes useless information from the article's content. Namely, takes the part of article before 'See also' and 'References' sections.\n",
    "    \"\"\"\n",
    "    stop_words = [\"== References ==\", \"== See also ==\"]\n",
    "    res = content\n",
    "    for stop_word in stop_words:\n",
    "        res = res.split(stop_word)[0]\n",
    "    return res\n",
    "\n",
    "def wikipedia_url(title):\n",
    "    url = \"https://en.wikipedia.org/wiki/\" + title.replace(\" \", \"_\")\n",
    "    return url\n",
    "\n",
    "\n",
    "wikipedia_url(\"Metropolitan municipality (South Africa)\")\n",
    "\n",
    "def wikipedia_tables(url):\n",
    "    response = requests.get(url)\n",
    "    soup = BeautifulSoup(response.text, 'html.parser')\n",
    "    \n",
    "    # Trouver tous les tableaux dans la page\n",
    "    tables = soup.find_all('table')\n",
    "\n",
    "    # Initialiser une liste pour stocker les données de tous les tableaux\n",
    "    all_data = []\n",
    "\n",
    "    # Parcourir tous les tableaux\n",
    "    k = 0\n",
    "    for table in tables:\n",
    "        if k==3: break # On prend seulement les 3 premiers tableaux\n",
    "        # Initialiser une liste pour stocker les données du tableau actuel\n",
    "        table_data = []\n",
    "\n",
    "        # Parcourir les lignes du tableau\n",
    "        for row in table.find_all('tr'):\n",
    "            # Initialiser une liste pour stocker les cellules de la ligne\n",
    "            row_data = []\n",
    "\n",
    "            # Parcourir les cellules de la ligne\n",
    "            for cell in row.find_all(['th', 'td']):\n",
    "                # Ajouter le texte de la cellule à la liste row_data\n",
    "                row_data.append(cell.get_text(strip=True))\n",
    "\n",
    "            # Ajouter la liste row_data à la liste principale table_data\n",
    "            table_data.append(row_data)\n",
    "\n",
    "        # Ajouter les données du tableau actuel à la liste principale all_data\n",
    "        all_data.append(table_data)\n",
    "        k += 1\n",
    "        \n",
    "    return all_data"
   ]
  },
  {
   "cell_type": "code",
   "execution_count": 33,
   "id": "3888ee56",
   "metadata": {},
   "outputs": [
    {
     "name": "stdout",
     "output_type": "stream",
     "text": [
      "Gundula Janowitz\n"
     ]
    },
    {
     "data": {
      "text/plain": [
       "[[['Gundula Janowitz'],\n",
       "  ['Born', '(1937-08-02)2 August 1937(age\\xa086)Berlin, Germany'],\n",
       "  ['Nationality', 'Austrian'],\n",
       "  ['Occupation', 'Soprano singer'],\n",
       "  ['Years\\xa0active', '1959–1997'],\n",
       "  ['Organisation', 'Vienna State Opera'],\n",
       "  ['Title', 'Kammersängerin'],\n",
       "  ['Awards', 'Austrian Decoration for Science and Art']],\n",
       " [['vteGramophone Hall of Fame'],\n",
       "  ['Conductors',\n",
       "   'Claudio AbbadoJohn BarbirolliDaniel BarenboimThomas BeechamLeonard BernsteinKarl BöhmPierre BoulezAdrian BoultBenjamin BrittenSergiu CelibidacheRiccardo ChaillyColin DavisGustavo DudamelWilhelm FurtwänglerJohn Eliot GardinerCarlo Maria GiuliniBernard HaitinkNikolaus HarnoncourtChristopher HogwoodMariss JansonsHerbert von KarajanCarlos KleiberOtto KlempererRafael KubelíkJames LevineCharles MackerrasNeville MarrinerZubin MehtaYevgeny MravinskyRiccardo MutiEugene OrmandyAntonio PappanoTrevor PinnockSimon RattleFritz ReinerGeorg SoltiLeopold StokowskiGeorge SzellMichael Tilson ThomasArturo ToscaniniBruno Walter'],\n",
       "  ['Singers',\n",
       "   'Thomas AllenVictoria de los ÁngelesJanet BakerCecilia BartoliJussi BjörlingMontserrat CaballéMaria CallasJosé CarrerasEnrico CarusoFeodor ChaliapinJoyce DiDonatoPlácido DomingoKathleen FerrierDietrich Fischer-DieskauKirsten FlagstadRenée FlemingAngela GheorghiuNicolai GhiaurovTito GobbiThomas HampsonMarilyn HorneHans HotterDmitri HvorostovskyGundula JanowitzJonas KaufmannSimon KeenlysideEmma KirkbyAnna NetrebkoBirgit NilssonJessye NormanAnne Sofie von OtterLuciano PavarottiLeontyne PriceElisabeth SchwarzkopfJoan SutherlandRenata TebaldiKiri Te KanawaBryn TerfelFritz Wunderlich'],\n",
       "  ['Keyboardists',\n",
       "   'Leif Ove AndsnesMartha ArgerichClaudio ArrauVladimir AshkenazyAlfred BrendelEmil GilelsGlenn GouldFriedrich GuldaMarc-André HamelinAngela HewittVladimir HorowitzStephen HoughWilhelm KempffEvgeny KissinGustav LeonhardtLang LangDinu LipattiRadu LupuArturo Benedetti MichelangeliMurray PerahiaMaurizio PolliniSergei RachmaninoffSviatoslav RichterArthur RubinsteinAndrás SchiffArtur SchnabelGrigory SokolovMitsuko Uchida'],\n",
       "  ['String/brass/woodwind players',\n",
       "   'Maurice AndréDennis BrainJulian BreamPablo CasalsKyung Wha ChungJacqueline du PréJames GalwayArthur GrumiauxJascha HeifetzHeinz HolligerSteven IsserlisFritz KreislerGidon KremerYo-Yo MaWynton MarsalisAlbrecht MayerYehudi MenuhinNathan MilsteinAnne-Sophie MutterDavid OistrakhEmmanuel PahudItzhak PerlmanJean-Pierre RampalMstislav RostropovichJordi SavallAndrés SegoviaJohn Williams'],\n",
       "  ['Ensembles',\n",
       "   \"Alban Berg QuartettAmadeus QuartetBeaux Arts TrioThe King's SingersTakács QuartetThe Tallis Scholars\"],\n",
       "  ['Producers/engineers/record label executives',\n",
       "   'Emile BerlinerBernard CoutazJohn CulshawC. Robert FineFred GaisbergKlaus HeymannAlain LanceronWalter LeggeEdward LewisGoddard LiebersonRichard MohrTed PerryKenneth Wilkinson']],\n",
       " [['Authority control databases'],\n",
       "  ['International', 'FASTISNIVIAF'],\n",
       "  ['National',\n",
       "   'NorwaySpainFranceBnF dataGermanyItalyIsraelFinlandUnited StatesSwedenLatviaCzech RepublicAustraliaKoreaCroatiaNetherlandsPoland'],\n",
       "  ['Academics', 'CiNii'],\n",
       "  ['Artists', 'MusicBrainz'],\n",
       "  ['People', 'BMLODeutsche BiographieTrove'],\n",
       "  ['Other', 'SNACIdRef']]]"
      ]
     },
     "execution_count": 33,
     "metadata": {},
     "output_type": "execute_result"
    }
   ],
   "source": [
    "question = \"who sings the marriage of figaro in shawshank redemption\"\n",
    " \n",
    "# getting suggestions\n",
    "title = wikipedia.search(question, results = 1)[0] # parameter to tune\n",
    " \n",
    "# printing the result\n",
    "print(title)\n",
    "page = wikipedia.page(title)\n",
    "url = wikipedia_url(title)\n",
    "tables = wikipedia_tables(url)\n",
    "tables"
   ]
  },
  {
   "cell_type": "code",
   "execution_count": 43,
   "id": "dfa3da27",
   "metadata": {},
   "outputs": [],
   "source": [
    "def wiki_search(\n",
    "    question: str, \n",
    "    max_results: int = 1\n",
    ") -> str :\n",
    "    # getting suggestions\n",
    "    title = wikipedia.search(question, results = max_results)[0] # parameter to tune\n",
    "    url = wikipedia_url(title)\n",
    "    print(url)\n",
    "    tables = wikipedia_tables(url)\n",
    "    context = \"\"\n",
    "    \n",
    "    \n",
    "    page_object = wikipedia.page(title)\n",
    "    context = context + cut_article(page_object.content) + '\\n\\n'\n",
    "    context = context[:5000]\n",
    "    \n",
    "    for table in tables:\n",
    "        context = context + \"Table:\\n\"\n",
    "        for row in table:\n",
    "            context = context + str(row)\n",
    "        context = context + \"\\n\\n\"\n",
    "    \n",
    "    return context"
   ]
  },
  {
   "cell_type": "code",
   "execution_count": 44,
   "id": "fefde4eb",
   "metadata": {},
   "outputs": [
    {
     "name": "stdout",
     "output_type": "stream",
     "text": [
      "https://en.wikipedia.org/wiki/Washington_(state)\n",
      "Washington, officially the State of Washington,  is a state in the Pacific Northwest region of the United States. It is often referred to as Washington state to distinguish it from the national capital, both named for George Washington (the first U.S. president). Washington borders the Pacific Ocean to the west, Oregon to the south, Idaho to the east, and the Canadian province of British Columbia to the north. The state was formed from the western part of the Washington Territory, which was ceded by the British Empire in the Oregon Treaty of 1846. It was admitted to the Union as the 42nd state in 1889. Olympia is the state capital, and the most populous city is Seattle.\n",
      "Washington is the 18th-largest state, with an area of 71,362 square miles (184,830 km2), and the 13th-most populous state, with more than 7.8 million people. The majority of Washington's residents live in the Seattle metropolitan area, the center of transportation, business, and industry on Puget Sound, an inlet of the Pacific Ocean consisting of numerous islands, deep fjords and bays carved out by glaciers. The remainder of the state consists of deep temperate rainforests in the west; mountain ranges in the west, center, northeast, and far southeast; and a semi-arid basin region in the east, center, and south, given over to intensive agriculture. Washington is the second most populous state on the West Coast and in the Western United States, after California. Mount Rainier, an active stratovolcano, is the state's highest elevation at 14,411 feet (4,392 meters), and is the most topographically prominent mountain in the contiguous U.S.\n",
      "Washington is a leading lumber producer; its rugged surface is rich in stands of Douglas fir, hemlock, ponderosa pine, white pine, spruce, larch, and cedar. The state is the largest producer of apples, hops, pears, blueberries, spearmint oil, and sweet cherries in the U.S., and ranks high in the production of apricots, asparagus, dry edible peas, grapes, lentils, peppermint oil, and potatoes. Livestock, livestock products, and commercial fishing—particularly of salmon, halibut, and bottomfish—are also significant contributors to the state's economy. Washington ranks second only to California in wine production.\n",
      "Manufacturing industries in Washington include aircraft, missiles, shipbuilding, and other transportation equipment, food processing, metals, and metal products, chemicals, and machinery. Washington has more than a thousand dams, including the Grand Coulee Dam, built for a variety of purposes including irrigation, electricity generation, flood control, and water storage.\n",
      "One of the wealthiest and most socially liberal states in the country, Washington consistently ranks among the top states for highest life expectancy and employment rates. It was one of the first states (alongside Colorado) to legalize medicinal and recreational cannabis, was among the first states to legalize same-sex marriage, and was one of only four states to have provided legal abortions on request before Roe v. Wade loosened abortion laws nationwide in 1973. Washington voters also approved a 2008 referendum on the legalization of physician-assisted suicide, making it one of 10 states states to have legalized the practice.\n",
      "\n",
      "\n",
      "== Etymology ==\n",
      "Washington was named after President George Washington by an act of the United States Congress during the creation of Washington Territory in 1853; the territory was to be named \"Columbia\", for the Columbia River and the Columbia District, but Kentucky representative Richard H. Stanton found the name too similar to the District of Columbia (the national capital, itself containing the city of Washington), and proposed naming the new territory after President Washington. Washington is the only U.S. state named after a president.Confusion over the state of Washington and the city of Washington, D.C., led to renaming proposals during the statehood process for Washington in 1889, including David Dudley Field II's suggestion to name the new state \"Tacoma\"; these proposals failed to garner support. Washington, D.C.'s, own statehood movement in the 21st century has included a proposal to use the name \"State of Washington, Douglass Commonwealth\", which would conflict with the current state of Washington. Residents of Washington (known as \"Washingtonians\") and the Pacific Northwest simply refer to the state as \"Washington\", and the nation's capital \"Washington, D.C.\", \"the other Washington\", or simply \"D.C.\"\n",
      "\n",
      "\n",
      "== History ==\n",
      "\n",
      "\n",
      "=== Early history ===\n",
      "The 9,300-year-old skeletal remains of Kennewick Man, one of the oldest and most complete human remains found in North America, were discovered in Washington in the 1990s. The area has been known to host megathrust earthquakes in the past, the last being the Cascadia earthquake of 1700. The region has been home to many established tribes of indigenous peoples for thousands of years. They are notable for their ornately carved welcome figures, canoes, long houses aTable:\n",
      "['Washington']['State']['State of Washington']['FlagSeal']['Nickname:\"The Evergreen State\" (unofficial)[1]']['Motto(s):Al-ki or Alki, \"by and by\" inChinook Jargon']['Anthem:\"Washington, My Home\"']['Map of the United States with Washington highlighted']['Country', 'United States']['Before statehood', 'Washington Territory']['Admitted to the Union', 'November 11, 1889 (42nd)']['Capital', 'Olympia']['Largest city', 'Seattle']['Largest county or equivalent', 'King']['Largest metroandurbanareas', 'Seattle']['Government']['•Governor', 'Jay Inslee(D)']['•Lieutenant Governor', 'Denny Heck(D)']['Legislature', 'State Legislature']['•Upper house', 'State Senate']['•Lower house', 'House of Representatives']['Judiciary', 'Washington Supreme Court']['U.S. senators', 'Patty Murray(D)Maria Cantwell(D)']['U.S. House delegation', '8Democrats2Republicans(list)']['Area']['•\\xa0Total', '71,362\\xa0sq\\xa0mi (184,827\\xa0km2)']['•\\xa0Land', '66,544\\xa0sq\\xa0mi (172,587\\xa0km2)']['•\\xa0Water', '4,757\\xa0sq\\xa0mi (12,237\\xa0km2) \\xa06.6%']['•\\xa0Rank', '18th']['Dimensions']['•\\xa0Length', '240\\xa0mi (400\\xa0km)']['•\\xa0Width', '360\\xa0mi (580\\xa0km)']['Elevation', '1,700\\xa0ft (520\\xa0m)']['Highest\\xa0elevation(Mount Rainier)', '14,411\\xa0ft (4,392\\xa0m)']['Lowest\\xa0elevation(Pacific Ocean)', '0\\xa0ft (0\\xa0m)']['Population(2023)']['•\\xa0Total', '7,812,880']['•\\xa0Rank', '13th']['•\\xa0Density', '103/sq\\xa0mi (39.6/km2)']['•\\xa0Rank', '25th']['•Median household income', '$70,979 (2,017)[2]']['•\\xa0Income rank', '7th[2]']['Demonym', 'Washingtonian']['Language']['•Official language', 'None(de jure)English(de facto)']['Time zone', 'UTC–08:00(Pacific)']['USPS abbreviation', 'WA']['ISO 3166 code', 'US-WA']['Traditional abbreviation', 'Wash.']['Latitude', '45°33′ N to49° N']['Longitude', '116°55′ W to 124°46′ W']['Website', 'wa.gov']['']['ASN', '4193']['']\n",
      "\n",
      "Table:\n",
      "['BellinghamEverettKennewickTacomaSeattleSpokaneVancouverYakimaOlympiaclass=notpageimage|A physical map of Washington with the cities of Bellingham, Everett, Seattle, Tacoma, Olympia, Vancouver, Spokane, Yakima, and Kennewick pinned.']\n",
      "\n",
      "Table:\n",
      "['Mount BakerGlacier PeakMount RainierMount St. HelensMount Adamsclass=notpageimage|A physical map of Washington with the volcanic peaks Mount Baker, Glacier Peak, Mount Rainier, Mount Adams, and Mount St Helens pinned.']\n",
      "\n",
      "\n"
     ]
    }
   ],
   "source": [
    "question = \"cities in washington state that start with o\"\n",
    "\n",
    "context = wiki_search(question)\n",
    "print(context)"
   ]
  },
  {
   "cell_type": "code",
   "execution_count": 42,
   "id": "cd72587e",
   "metadata": {},
   "outputs": [
    {
     "data": {
      "text/plain": [
       "7338"
      ]
     },
     "execution_count": 42,
     "metadata": {},
     "output_type": "execute_result"
    }
   ],
   "source": [
    "len(context)"
   ]
  },
  {
   "cell_type": "code",
   "execution_count": null,
   "id": "2c03da17",
   "metadata": {},
   "outputs": [],
   "source": []
  }
 ],
 "metadata": {
  "kernelspec": {
   "display_name": "Python 3 (ipykernel)",
   "language": "python",
   "name": "python3"
  },
  "language_info": {
   "codemirror_mode": {
    "name": "ipython",
    "version": 3
   },
   "file_extension": ".py",
   "mimetype": "text/x-python",
   "name": "python",
   "nbconvert_exporter": "python",
   "pygments_lexer": "ipython3",
   "version": "3.9.7"
  }
 },
 "nbformat": 4,
 "nbformat_minor": 5
}
